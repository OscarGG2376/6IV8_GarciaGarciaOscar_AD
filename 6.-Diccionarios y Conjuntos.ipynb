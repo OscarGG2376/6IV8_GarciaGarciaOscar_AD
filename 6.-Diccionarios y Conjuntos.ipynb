{
 "cells": [
  {
   "cell_type": "markdown",
   "id": "fade2863-6270-4914-b00e-beec38683068",
   "metadata": {},
   "source": [
    "# 6.-Diccionarios y Conjuntos"
   ]
  },
  {
   "cell_type": "markdown",
   "id": "45971094-5533-4b0b-b0c2-f223ddc50d89",
   "metadata": {},
   "source": [
    "Un diccionario tiene es una colección no ordenada de parejas, estas parejas contienen llaves y\n",
    "datos\n",
    "\n",
    "Un conjunto es una colección no ordenada de valores únicos\n",
    "\n",
    "---\n",
    "\n"
   ]
  },
  {
   "cell_type": "markdown",
   "id": "3a6c6ca6-5ffa-45e1-898f-32b0b3291dee",
   "metadata": {},
   "source": [
    "## 6.2 - Diccionarios"
   ]
  },
  {
   "cell_type": "markdown",
   "id": "a91d3c4a-7942-4786-bdfc-54dca1900ab7",
   "metadata": {},
   "source": [
    "Vamos  a crear un diccionario con los nombres Laura, Daniel, Alberto y Rogelio, y sus códigos la, dn, al, ro."
   ]
  },
  {
   "cell_type": "code",
   "execution_count": 1,
   "id": "42955c64-1086-4a22-a207-a097f6bd307e",
   "metadata": {},
   "outputs": [],
   "source": [
    "usuario_nickname = {'Laura':'la','Daniel':'dn','Alberto':'al','Rogelio':'ro'}"
   ]
  },
  {
   "cell_type": "markdown",
   "id": "7f507c09-a959-414b-8d99-fd8f623c4a42",
   "metadata": {},
   "source": [
    "¿Cuantas parejas hay en el diccionario?"
   ]
  },
  {
   "cell_type": "code",
   "execution_count": 3,
   "id": "d32107e7-8f3e-451e-87f8-ab2f925153cd",
   "metadata": {},
   "outputs": [
    {
     "data": {
      "text/plain": [
       "4"
      ]
     },
     "execution_count": 3,
     "metadata": {},
     "output_type": "execute_result"
    }
   ],
   "source": [
    "len(usuario_nickname)"
   ]
  },
  {
   "cell_type": "markdown",
   "id": "fbb66627-99e6-48b7-a4be-095ffe3a2c5d",
   "metadata": {},
   "source": [
    "Ahora crea un diccionario donde mapees a los usuarios con su edad - 28, 31, 27 y 65 respectivamente."
   ]
  },
  {
   "cell_type": "code",
   "execution_count": 51,
   "id": "9b8c28d5-4993-4150-9dc3-65e5afca47c0",
   "metadata": {},
   "outputs": [
    {
     "data": {
      "text/plain": [
       "{'Laura': 28, 'Daniel': 31, 'Alberto': 27, 'Rogelio': 65}"
      ]
     },
     "execution_count": 51,
     "metadata": {},
     "output_type": "execute_result"
    }
   ],
   "source": [
    "usuario_edad = {'Laura':28,'Daniel':31,'Alberto':27,'Rogelio':65}\n",
    "usuario_edad"
   ]
  },
  {
   "cell_type": "markdown",
   "id": "36cf9a7a-f6a0-4523-8df6-1909f2662f98",
   "metadata": {},
   "source": [
    "Arma un programa que nos diga en forma de oración **\"X tiene Y años\"** para cada uno de los 4 participantes. (Ej - Laura tiene 28 años cumplidos)"
   ]
  },
  {
   "cell_type": "code",
   "execution_count": 22,
   "id": "970cdb13-b10d-44e8-a9f5-e8aa40bd302a",
   "metadata": {},
   "outputs": [
    {
     "name": "stdout",
     "output_type": "stream",
     "text": [
      "Laura tiene 28 años\n",
      "Daniel tiene 31 años\n",
      "Alberto tiene 27 años\n",
      "Rogelio tiene 65 años\n"
     ]
    }
   ],
   "source": [
    "for usuario,edad in usuario_edad.items():\n",
    "    print(f'{usuario} tiene {edad} años')"
   ]
  },
  {
   "cell_type": "markdown",
   "id": "c6c53f7b-fb88-4286-9952-ea91f786d894",
   "metadata": {},
   "source": [
    "#### Revisa tu comprensión\n",
    "\n",
    "El método _____________________ te regresa cada pareja llave-valor como una tupla\n",
    "\n",
    "---"
   ]
  },
  {
   "cell_type": "markdown",
   "id": "87c1264a-a744-4c54-a3e3-8939ed8b598d",
   "metadata": {},
   "source": [
    "Accede a 2 usuarios mediante sus llaves"
   ]
  },
  {
   "cell_type": "code",
   "execution_count": null,
   "id": "a529e323-2e4c-49a6-81eb-df601d7a0366",
   "metadata": {},
   "outputs": [
    {
     "data": {
      "text/plain": [
       "28"
      ]
     },
     "execution_count": 23,
     "metadata": {},
     "output_type": "execute_result"
    }
   ],
   "source": [
    "usuario_edad ['Laura']\n"
   ]
  },
  {
   "cell_type": "markdown",
   "id": "6d18665e-bb15-4c63-94cf-c544f63526c8",
   "metadata": {},
   "source": [
    "Cambia el valor de alguan de las llaves - Resulta que Rogelio en realidad tiene 35 años"
   ]
  },
  {
   "cell_type": "code",
   "execution_count": 26,
   "id": "03dd1826-9fb8-467f-83de-3f5f5b8e0f76",
   "metadata": {},
   "outputs": [
    {
     "data": {
      "text/plain": [
       "{'Laura': 28, 'Daniel': 31, 'Alberto': 27, 'Rogelio': 35}"
      ]
     },
     "execution_count": 26,
     "metadata": {},
     "output_type": "execute_result"
    }
   ],
   "source": [
    "usuario_edad['Rogelio'] = 35\n",
    "\n",
    "usuario_edad"
   ]
  },
  {
   "cell_type": "markdown",
   "id": "155ae81f-3c33-4fa7-81b5-df3e3b8ca305",
   "metadata": {},
   "source": [
    "Se integra un nuevo elemento - Eva de 29 años, agregala al diccionario"
   ]
  },
  {
   "cell_type": "code",
   "execution_count": 52,
   "id": "94549ac0-8a66-4aa7-a6ad-64b903386580",
   "metadata": {},
   "outputs": [
    {
     "data": {
      "text/plain": [
       "{'Laura': 28, 'Daniel': 31, 'Alberto': 27, 'Rogelio': 65, 'Owen': 17}"
      ]
     },
     "execution_count": 52,
     "metadata": {},
     "output_type": "execute_result"
    }
   ],
   "source": [
    "usuario_edad['Owen'] = 17\n",
    "usuario_edad\n"
   ]
  },
  {
   "cell_type": "markdown",
   "id": "e3ae2374-92e9-4e52-9142-bc8026ede129",
   "metadata": {},
   "source": [
    "Daniel decidió que no somos lo suficientemente cool para el - borralo del diccionario"
   ]
  },
  {
   "cell_type": "code",
   "execution_count": 30,
   "id": "e0d99cbb-4663-4823-b5ce-1b7223cbe1ba",
   "metadata": {},
   "outputs": [
    {
     "data": {
      "text/plain": [
       "{'Laura': 28, 'Alberto': 27, 'Rogelio': 35, 'Owen': 17}"
      ]
     },
     "execution_count": 30,
     "metadata": {},
     "output_type": "execute_result"
    }
   ],
   "source": [
    "del usuario_edad['Daniel'] \n",
    "usuario_edad"
   ]
  },
  {
   "cell_type": "markdown",
   "id": "15b9303f-d37a-4789-9858-6d38c39280e0",
   "metadata": {},
   "source": [
    "Tu gerente inútil te manda buscar a Pepe aunque no este en el diccionario - Que sucede?"
   ]
  },
  {
   "cell_type": "code",
   "execution_count": 31,
   "id": "ce44d1a5-ff1f-41c4-bbfb-ec65f98962b0",
   "metadata": {},
   "outputs": [
    {
     "ename": "KeyError",
     "evalue": "'Pepe'",
     "output_type": "error",
     "traceback": [
      "\u001b[1;31m---------------------------------------------------------------------------\u001b[0m",
      "\u001b[1;31mKeyError\u001b[0m                                  Traceback (most recent call last)",
      "Cell \u001b[1;32mIn[31], line 1\u001b[0m\n\u001b[1;32m----> 1\u001b[0m \u001b[43musuario_edad\u001b[49m\u001b[43m[\u001b[49m\u001b[38;5;124;43m'\u001b[39;49m\u001b[38;5;124;43mPepe\u001b[39;49m\u001b[38;5;124;43m'\u001b[39;49m\u001b[43m]\u001b[49m\n",
      "\u001b[1;31mKeyError\u001b[0m: 'Pepe'"
     ]
    }
   ],
   "source": [
    "usuario_edad['Pepe']"
   ]
  },
  {
   "cell_type": "markdown",
   "id": "79fa3a8b-285b-41a9-8635-a577495547d6",
   "metadata": {},
   "source": [
    "¿Cual era la edad de Eva?"
   ]
  },
  {
   "cell_type": "code",
   "execution_count": 53,
   "id": "43e33511-5d73-4430-8e06-2a86b74cf9ed",
   "metadata": {},
   "outputs": [
    {
     "data": {
      "text/plain": [
       "17"
      ]
     },
     "execution_count": 53,
     "metadata": {},
     "output_type": "execute_result"
    }
   ],
   "source": [
    "usuario_edad['Owen']"
   ]
  },
  {
   "cell_type": "markdown",
   "id": "b48bc20c-9a23-4c88-95fe-e5ac6e7b5c52",
   "metadata": {},
   "source": [
    "Ahora usa Get para conocer la edad Edad de Pepe y evitar un error"
   ]
  },
  {
   "cell_type": "code",
   "execution_count": null,
   "id": "692a6449-cf1a-47cb-a23a-c22e4d08f4f0",
   "metadata": {},
   "outputs": [
    {
     "data": {
      "text/plain": [
       "'Pepe no está incluido'"
      ]
     },
     "execution_count": 41,
     "metadata": {},
     "output_type": "execute_result"
    }
   ],
   "source": [
    "usuario_edad.get('Pepe', 'Pepe no está incluido')\n"
   ]
  },
  {
   "cell_type": "markdown",
   "id": "c74b6ba7-7a8e-461d-9648-7e7246259d5f",
   "metadata": {},
   "source": [
    "Prueba si Pepe y Eva están en el diccionario"
   ]
  },
  {
   "cell_type": "code",
   "execution_count": null,
   "id": "6324ff9f-0fe5-4acf-a2a7-da70ac22c8fd",
   "metadata": {},
   "outputs": [
    {
     "data": {
      "text/plain": [
       "False"
      ]
     },
     "execution_count": 46,
     "metadata": {},
     "output_type": "execute_result"
    }
   ],
   "source": [
    "'Pepe' in usuario_edad"
   ]
  },
  {
   "cell_type": "code",
   "execution_count": 54,
   "id": "5ceb55ab",
   "metadata": {},
   "outputs": [
    {
     "data": {
      "text/plain": [
       "True"
      ]
     },
     "execution_count": 54,
     "metadata": {},
     "output_type": "execute_result"
    }
   ],
   "source": [
    "'Owen' in usuario_edad"
   ]
  },
  {
   "cell_type": "markdown",
   "id": "dd42c5d0-15ab-40ad-a1ee-413c49c159c9",
   "metadata": {},
   "source": [
    "---"
   ]
  },
  {
   "cell_type": "markdown",
   "id": "daa95669-469e-426d-8c39-bd313b11067e",
   "metadata": {},
   "source": [
    "### 6.2.2 - Métodos de Diccionario"
   ]
  },
  {
   "cell_type": "markdown",
   "id": "ac8c9e61-9545-4c74-9db3-a23752e8b075",
   "metadata": {},
   "source": [
    "Anteriormente, usamos el método **items** para iterar a través de las tuplas de un key-value pair. Asimismo, lo métodos **keys** y **values** pueden susares para iterar las llaves y valores de un diccionario. "
   ]
  },
  {
   "cell_type": "markdown",
   "id": "0637e873-e5e1-4d5c-9314-390963fe41fc",
   "metadata": {},
   "source": [
    "Arma un for que muestre los nombres de los participantes - sacados de usuario_edad"
   ]
  },
  {
   "cell_type": "code",
   "execution_count": 56,
   "id": "cc3ce0e1-96ee-4a97-b95b-23da9087693f",
   "metadata": {},
   "outputs": [
    {
     "name": "stdout",
     "output_type": "stream",
     "text": [
      "Laura, Daniel, Alberto, Rogelio, "
     ]
    }
   ],
   "source": [
    "usuario_edad={'Laura':28,'Daniel':31,'Alberto':27,'Rogelio':65}\n",
    "for usuario in usuario_edad.keys():\n",
    "    print(usuario, end=', ')"
   ]
  },
  {
   "cell_type": "markdown",
   "id": "bee68c8b-a8c1-4765-a4b0-dbc67d45939d",
   "metadata": {},
   "source": [
    "Arma un for que muestre las edades de los participantes"
   ]
  },
  {
   "cell_type": "code",
   "execution_count": 58,
   "id": "a0e19641-efd3-4b19-8f17-82c27e3ae5f3",
   "metadata": {},
   "outputs": [
    {
     "name": "stdout",
     "output_type": "stream",
     "text": [
      "28, 31, 27, 65, "
     ]
    }
   ],
   "source": [
    "usuario_edad={'Laura':28,'Daniel':31,'Alberto':27,'Rogelio':65}\n",
    "for edad in usuario_edad.values():\n",
    "    print(edad, end=', ')"
   ]
  },
  {
   "cell_type": "markdown",
   "id": "a2efcae0-38e3-46bb-90c1-8462f6761309",
   "metadata": {},
   "source": [
    "Si añadimos otro elemento al diccionario..."
   ]
  },
  {
   "cell_type": "code",
   "execution_count": 59,
   "id": "b512810c-a76b-4297-8684-2ae78600e4c7",
   "metadata": {},
   "outputs": [],
   "source": [
    "usuario_edad['Eva']=29"
   ]
  },
  {
   "cell_type": "markdown",
   "id": "6e8eb45a-ce42-4909-abe8-12dc180ae658",
   "metadata": {},
   "source": [
    "Checa que aparece en Views"
   ]
  },
  {
   "cell_type": "code",
   "execution_count": 60,
   "id": "2efaa44d-14a5-44d1-9ade-209093096ead",
   "metadata": {},
   "outputs": [
    {
     "data": {
      "text/plain": [
       "[28, 31, 27, 65, 29]"
      ]
     },
     "execution_count": 60,
     "metadata": {},
     "output_type": "execute_result"
    }
   ],
   "source": [
    "list(usuario_edad.keys())\n",
    "['Laura', 'Daniel', 'Alberto', 'Rogelio', 'Eva']\n",
    "list(usuario_edad.values())"
   ]
  },
  {
   "cell_type": "markdown",
   "id": "504bc570-328f-4496-836e-1f000c3cfe31",
   "metadata": {},
   "source": [
    "A veces es necesario trabajar con las llaves y valores del diccionario - Eso lo logramos convirtiendo nuestras llaves y valores en listas con la función **list**"
   ]
  },
  {
   "cell_type": "code",
   "execution_count": null,
   "id": "e61b3b59-5b78-4896-81da-f393972abe6f",
   "metadata": {},
   "outputs": [
    {
     "data": {
      "text/plain": [
       "[('Laura', 28), ('Daniel', 31), ('Alberto', 27), ('Rogelio', 65), ('Eva', 29)]"
      ]
     },
     "execution_count": 62,
     "metadata": {},
     "output_type": "execute_result"
    }
   ],
   "source": [
    "list(usuario_edad.items())"
   ]
  },
  {
   "cell_type": "markdown",
   "id": "33f60221-9dea-4750-8b35-e80411e8268a",
   "metadata": {},
   "source": [
    "Para ordenar en orden alfabético las llaves del diccionario"
   ]
  },
  {
   "cell_type": "code",
   "execution_count": 63,
   "id": "b451c534-dd1b-4fda-9c65-e2688ff72232",
   "metadata": {},
   "outputs": [
    {
     "name": "stdout",
     "output_type": "stream",
     "text": [
      "Alberto Daniel Eva Laura Rogelio "
     ]
    }
   ],
   "source": [
    "for usuario in sorted(usuario_edad.keys()):\n",
    "    print(usuario, end=' ')"
   ]
  },
  {
   "cell_type": "markdown",
   "id": "a33137d1-1133-4106-888d-cb5a283e3c05",
   "metadata": {},
   "source": [
    "#### Por tu cuenta"
   ]
  },
  {
   "cell_type": "markdown",
   "id": "879241a8-fe37-4b1e-9705-bdf082ebe332",
   "metadata": {},
   "source": [
    "Para el siguiente diccionario, crea listas de sus **llaves**, **valores** y **items** - y muestra esas listas\n",
    "\n",
    "Municipios_poblacion = {\"Acatic\" : 23175, \"Acatlan de Juarez\" : 25250, \"Ameca\" : 60386, \"Arandas\" : 80609}"
   ]
  },
  {
   "cell_type": "code",
   "execution_count": 68,
   "id": "6f48e4d9-1c9d-45d1-83ae-4b404a288ebe",
   "metadata": {},
   "outputs": [
    {
     "data": {
      "text/plain": [
       "[28, 31, 27, 65, 29]"
      ]
     },
     "execution_count": 68,
     "metadata": {},
     "output_type": "execute_result"
    }
   ],
   "source": [
    "Municipios_poblacion = {\"Acatic\" : 23175, \"Acatlan de Juarez\" : 25250, \"Ameca\" : 60386, \"Arandas\" : 80609}\n",
    "list(usuario_edad.values())"
   ]
  },
  {
   "cell_type": "markdown",
   "id": "9057c694-02e6-45e8-af3c-70906a393579",
   "metadata": {},
   "source": [
    "Python te permite comparar diccionarios . \n",
    "\n",
    "Compara estos 3:\n",
    "    \n",
    "asistentes_dia1={'Ramírez':'Laura','Cortés': 'Daniel','Pérez':'Alberto'}\n",
    "\n",
    "asistentes_dia2={'García':'Rogelio','Ramírez': 'Laura','Pérez':'Alberto'}\n",
    "\n",
    "asistentes_dia3={'Pérez':'Alberto','Cortés': 'Daniel','Ramírez':'Laura'}"
   ]
  },
  {
   "cell_type": "code",
   "execution_count": 72,
   "id": "1b5656a4-c154-42bf-b0ea-0467915e0b33",
   "metadata": {},
   "outputs": [
    {
     "data": {
      "text/plain": [
       "True"
      ]
     },
     "execution_count": 72,
     "metadata": {},
     "output_type": "execute_result"
    }
   ],
   "source": [
    "asistentes_dia1={'Ramírez':'Laura','Cortés':'Daniel','Pérez':'Alberto'}\n",
    "asistentes_dia2={'García':'Rogelio','Ramírez':'Laura','Pérez':'Alberto'}\n",
    "asistentes_dia3={'Pérez':'Alberto','Cortés':'Daniel','Ramírez':'Laura'}\n",
    "asistentes_dia3 == asistentes_dia1"
   ]
  },
  {
   "cell_type": "code",
   "execution_count": 73,
   "id": "28b25cb3",
   "metadata": {},
   "outputs": [
    {
     "data": {
      "text/plain": [
       "True"
      ]
     },
     "execution_count": 73,
     "metadata": {},
     "output_type": "execute_result"
    }
   ],
   "source": [
    "asistentes_dia1={'Ramírez':'Laura','Cortés':'Daniel','Pérez':'Alberto'}\n",
    "asistentes_dia2={'García':'Rogelio','Ramírez':'Laura','Pérez':'Alberto'}\n",
    "asistentes_dia3={'Pérez':'Alberto','Cortés':'Daniel','Ramírez':'Laura'}\n",
    "asistentes_dia2 != asistentes_dia3"
   ]
  },
  {
   "cell_type": "code",
   "execution_count": null,
   "id": "e9e4795b",
   "metadata": {},
   "outputs": [
    {
     "data": {
      "text/plain": [
       "False"
      ]
     },
     "execution_count": 74,
     "metadata": {},
     "output_type": "execute_result"
    }
   ],
   "source": [
    "asistentes_dia1={'Ramírez':'Laura','Cortés':'Daniel','Pérez':'Alberto'}\n",
    "asistentes_dia2={'García':'Rogelio','Ramírez':'Laura','Pérez':'Alberto'}\n",
    "asistentes_dia3={'Pérez':'Alberto','Cortés':'Daniel','Ramírez':'Laura'}\n",
    "asistentes_dia1 == asistentes_dia2"
   ]
  },
  {
   "cell_type": "markdown",
   "id": "23f834e0-5995-446e-931a-4a291efa7b9d",
   "metadata": {},
   "source": [
    "#### Elemplo 2\n",
    "\n",
    "Arma un programa que utilice diccionarios, el método split, y el método items, asi como 2 ciclos for, para contar la cantidad de palabras en esta oración.Tu resultado debe de ser una tablita de 2 columnas donde muestres la palabra y la repetición:"
   ]
  },
  {
   "cell_type": "code",
   "execution_count": 83,
   "id": "041f0544-a042-44c0-9beb-7561c7d2cf3c",
   "metadata": {},
   "outputs": [
    {
     "name": "stdout",
     "output_type": "stream",
     "text": [
      "PALABRA      REPETICIONES\n",
      "cuenta      4\n",
      "cuento      2\n",
      "ese         1\n",
      "la          2\n",
      "llamado     1\n",
      "pasa        1\n",
      "princesa    2\n",
      "que         3\n",
      "se          1\n",
      "un          1\n",
      "una         1\n",
      "\n",
      "Número de palabras únicas en el texto: 11\n"
     ]
    }
   ],
   "source": [
    "cuento=('cuenta un cuento que una princesa se la pasa '\n",
    "        'cuenta que cuenta ese cuento llamado la princesa '\n",
    "        'que cuenta')\n",
    "palabras_contadas={}\n",
    "for palabra in cuento.split():\n",
    "    if palabra in palabras_contadas:\n",
    "        palabras_contadas[palabra] +=1\n",
    "    else:\n",
    "        palabras_contadas[palabra]=1\n",
    "\n",
    "print(f'{\"PALABRA\":<12} REPETICIONES')\n",
    "for palabra,veces in sorted(palabras_contadas.items()):\n",
    "    print(f'{palabra:<12}{veces}')\n",
    "print('\\nNúmero de palabras únicas en el texto:',len(palabras_contadas))"
   ]
  },
  {
   "cell_type": "markdown",
   "id": "13b856f3-c492-44b9-a564-e14c87305475",
   "metadata": {},
   "source": [
    "Ahora utiliza la herramienta Counter de Python para realizar la misma tarea con el **cuento**"
   ]
  },
  {
   "cell_type": "code",
   "execution_count": 84,
   "id": "0a75344d-5b6f-4366-9604-03a996d1f85d",
   "metadata": {},
   "outputs": [
    {
     "name": "stdout",
     "output_type": "stream",
     "text": [
      "cuenta      4\n",
      "cuento      2\n",
      "ese         1\n",
      "la          2\n",
      "llamado     1\n",
      "pasa        1\n",
      "princesa    2\n",
      "que         3\n",
      "se          1\n",
      "un          1\n",
      "una         1\n"
     ]
    }
   ],
   "source": [
    "from collections import Counter\n",
    "cuento=('cuenta un cuento que una princesa se la pasa '\n",
    "'cuenta que cuenta ese cuento llamado la princesa '\n",
    "'que cuenta')\n",
    "contador=Counter(cuento.split())\n",
    "\n",
    "for palabra,veces in sorted(contador.items()):\n",
    "    print(f'{palabra:<12}{veces}')\n"
   ]
  },
  {
   "cell_type": "markdown",
   "id": "d0b9199d-c46d-4086-b906-c62106be610b",
   "metadata": {},
   "source": [
    "---"
   ]
  },
  {
   "cell_type": "markdown",
   "id": "144c9fc3-fca2-4829-9e05-38e76a62a6d1",
   "metadata": {},
   "source": [
    "## 6.3 Comprensión de Diccionarios\n",
    "\n",
    "La comprensión de diciconarios, igual que la de listas, te da una notación más compacta para generar diccionarios."
   ]
  },
  {
   "cell_type": "markdown",
   "id": "98e361ed-7508-464d-a1bd-b0ea0daa05a9",
   "metadata": {},
   "source": [
    "Chécate el siguiente ejemplo donde intercambiamos los pares valor-llave de\n",
    "\n",
    "usuario_edad={'Laura':28,'Daniel':31,'Alberto':27,'Rogelio':65}"
   ]
  },
  {
   "cell_type": "code",
   "execution_count": 85,
   "id": "810a6176-9934-4431-8192-81cf211032e0",
   "metadata": {},
   "outputs": [],
   "source": [
    "usuario_edad={'Laura':28,'Daniel':31,'Alberto':27,'Rogelio':65}"
   ]
  },
  {
   "cell_type": "markdown",
   "id": "50755094-5f01-463e-aa75-5a48d0e8da95",
   "metadata": {},
   "source": [
    "También podemos mapear valores nuevos, Checa como convertimos las ventas de agentes en ventas promedio (en un nuevo diccionario)\n",
    "\n",
    "ventas_agentes= {'Laura': [12000, 10500, 9800, 11100], 'Daniel': [11000, 7800, 7200, 6500], 'Alberto': [11200, 9500, 10800, 10100]}"
   ]
  },
  {
   "cell_type": "code",
   "execution_count": 86,
   "id": "67e75a33-4963-48ba-a0e1-46763044cfd2",
   "metadata": {},
   "outputs": [
    {
     "data": {
      "text/plain": [
       "{'Laura': 10850.0, 'Daniel': 8125.0, 'Alberto': 10400.0}"
      ]
     },
     "execution_count": 86,
     "metadata": {},
     "output_type": "execute_result"
    }
   ],
   "source": [
    "ventas_agentes= {'Laura': [12000, 10500, 9800, 11100],'Daniel': [11000, 7800, 7200, 6500],'Alberto': [11200, 9500, 10800, 10100]}\n",
    "ventas_promedio={k:sum(v)/len(v) for k,v in ventas_agentes.items()}\n",
    "ventas_promedio"
   ]
  },
  {
   "cell_type": "markdown",
   "id": "44f6fdf0-144e-4848-8029-db57008ad1e5",
   "metadata": {},
   "source": [
    "#### Por tu cuenta\n",
    "\n",
    "Usa una comprensión de diccionario para crear un diccionario de los números 4-10 mapeado a sus cuadrados"
   ]
  },
  {
   "cell_type": "code",
   "execution_count": null,
   "id": "6396beae-fbd4-46ca-84ef-a3b1fa224e90",
   "metadata": {},
   "outputs": [],
   "source": [
    "diccionario = {x: x**2 for x in range(4, 11)}\n",
    "\n",
    "print(diccionario)\n"
   ]
  },
  {
   "cell_type": "markdown",
   "id": "13a063ad-5c36-49b1-8d5b-18cf35b41e13",
   "metadata": {},
   "source": [
    "---"
   ]
  },
  {
   "cell_type": "markdown",
   "id": "8a231f1d-c2ac-4676-adce-58e91d69b68e",
   "metadata": {},
   "source": [
    "### 6.4 Conjuntos (SETS)\n",
    "\n",
    "Un conjunto es una colección no ordenada de valores únicos.\n",
    "\n",
    "El código siguiente genera un conjunto llamado animales\n",
    "\n",
    "animales={'gato','ratón','perro','garza','perico','perro','pato'}"
   ]
  },
  {
   "cell_type": "code",
   "execution_count": 87,
   "id": "7dc74c02-6499-4171-a0ee-f3192cdb832a",
   "metadata": {},
   "outputs": [],
   "source": [
    "animales={'gato','ratón','perro','garza','perico','perro','pato'}"
   ]
  },
  {
   "cell_type": "markdown",
   "id": "8015fd4c-36ce-4303-aa94-b4077da97a55",
   "metadata": {},
   "source": [
    "Para determinar la cantidad de elementos"
   ]
  },
  {
   "cell_type": "code",
   "execution_count": null,
   "id": "b8bdc0f2-3643-40dc-a778-ce392e673adb",
   "metadata": {},
   "outputs": [
    {
     "data": {
      "text/plain": [
       "6"
      ]
     },
     "execution_count": 88,
     "metadata": {},
     "output_type": "execute_result"
    }
   ],
   "source": [
    "len(animales)"
   ]
  },
  {
   "cell_type": "markdown",
   "id": "37276167-14bf-434c-8158-2278279d1778",
   "metadata": {},
   "source": [
    "Si quieres verificar si algún elemento está incluido en el conjunto"
   ]
  },
  {
   "cell_type": "code",
   "execution_count": 89,
   "id": "3393a5a0-4287-4bc0-9a1f-05b9169f9352",
   "metadata": {},
   "outputs": [
    {
     "data": {
      "text/plain": [
       "True"
      ]
     },
     "execution_count": 89,
     "metadata": {},
     "output_type": "execute_result"
    }
   ],
   "source": [
    "'perro' in animales"
   ]
  },
  {
   "cell_type": "markdown",
   "id": "33563814-1bb1-4641-9c34-d68f11aae5dd",
   "metadata": {},
   "source": [
    "Los conjuntos son iterables - checa como convertimos todo el conjunto a mayusculas con el método upper y un for"
   ]
  },
  {
   "cell_type": "code",
   "execution_count": 91,
   "id": "ce1e57c4-a928-4e57-a162-2a13b133acd0",
   "metadata": {},
   "outputs": [
    {
     "name": "stdout",
     "output_type": "stream",
     "text": [
      "PERRO GATO PATO PERICO GARZA RATÓN "
     ]
    }
   ],
   "source": [
    "for animal in animales:\n",
    "    print(animal.upper(),end=' ')"
   ]
  },
  {
   "cell_type": "markdown",
   "id": "e1cc89ab-a5d1-4954-b1e8-c2156894e4b4",
   "metadata": {},
   "source": [
    "Checa que puedes crear un conjunto a partir de listas usando la función set. Primero vamos a crear y unir 2 listas - pares me dará todos los números pares del 0 al 15, y se unirá con todos los pares del 8 al 29"
   ]
  },
  {
   "cell_type": "code",
   "execution_count": 92,
   "id": "61f38eaf-8fca-4025-b594-310eef46b8ac",
   "metadata": {},
   "outputs": [
    {
     "data": {
      "text/plain": [
       "[0, 2, 4, 6, 8, 10, 12, 14, 8, 10, 12, 14, 16, 18, 20, 22, 24, 26, 28]"
      ]
     },
     "execution_count": 92,
     "metadata": {},
     "output_type": "execute_result"
    }
   ],
   "source": [
    "pares=list(range(0,15,2))+list(range(8,29,2))\n",
    "pares"
   ]
  },
  {
   "cell_type": "markdown",
   "id": "58b1571c-fe3c-4435-a791-19c164f5a905",
   "metadata": {},
   "source": [
    "Y ahora la convertiremos en un set"
   ]
  },
  {
   "cell_type": "code",
   "execution_count": 93,
   "id": "aa33f52a-5a05-4774-9c73-a39226c2cf3b",
   "metadata": {},
   "outputs": [
    {
     "data": {
      "text/plain": [
       "{0, 2, 4, 6, 8, 10, 12, 14, 16, 18, 20, 22, 24, 26, 28}"
      ]
     },
     "execution_count": 93,
     "metadata": {},
     "output_type": "execute_result"
    }
   ],
   "source": [
    "set (pares)"
   ]
  },
  {
   "cell_type": "markdown",
   "id": "6588336b-e4a5-4ad4-8bb8-c30f3df0f3c7",
   "metadata": {},
   "source": [
    "#### Por tu cuenta\n",
    "\n",
    "Asigna la siguiente caden a una variable **texto** y luego dividela usando el método split y crea un set de los resultados. Muestra las palabrás únicas en orden sorted. \n",
    "\n",
    "'Un dragon tragon trago carbon y quedo panzon, ah que dragon tan tragon\""
   ]
  },
  {
   "cell_type": "code",
   "execution_count": null,
   "id": "c2e85436-02ec-49a1-8fa1-10c6128b5ac6",
   "metadata": {},
   "outputs": [],
   "source": [
    "texto = 'Un dragon tragon trago carbon y quedo panzon, ah que dragon tan tragon'\n",
    "palabras_unicas = sorted(set(texto.split()))\n",
    "\n",
    "print(palabras_unicas)\n"
   ]
  },
  {
   "cell_type": "markdown",
   "id": "b879cb56-050e-4bb0-a9fd-88ce97dd877f",
   "metadata": {},
   "source": [
    "---"
   ]
  }
 ],
 "metadata": {
  "kernelspec": {
   "display_name": "Python 3 (ipykernel)",
   "language": "python",
   "name": "python3"
  }
 },
 "nbformat": 4,
 "nbformat_minor": 5
}
